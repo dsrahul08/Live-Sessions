{
 "cells": [
  {
   "cell_type": "code",
   "execution_count": 16,
   "metadata": {},
   "outputs": [],
   "source": [
    "#Simple Python Programming questions - The very first step in any interview \n",
    "    #Beginner Level: \n",
    "        #80% - Practice your own code \n",
    "        #20% - Read others code \n",
    "    #Mid Level \n",
    "        #50% - Practice your own code \n",
    "        #50% - Read others code \n",
    "    #Expert Level \n",
    "        #30% - Practice your own code \n",
    "        #70% - Read others code "
   ]
  },
  {
   "cell_type": "markdown",
   "metadata": {},
   "source": [
    "Tackle few simple problems \n",
    "\n",
    "    -Break a problem into smaller sub problems \n",
    "    -Connecting the dots from sub problems to coding concepts \n",
    "    -Code walkthrough and putting it all together \n",
    "    -More focus on common errors and mistakes + reading function reference + fixing bugs "
   ]
  },
  {
   "cell_type": "markdown",
   "metadata": {},
   "source": [
    "# Problem 1: Add two randomly generate Numpy matrices using loops"
   ]
  },
  {
   "cell_type": "code",
   "execution_count": 18,
   "metadata": {},
   "outputs": [],
   "source": [
    "#Break into Sub problems\n",
    "    #1. Generate random matrices \n",
    "    #2. Add the matrices \n",
    "#Create random matrix A1 of size 5X4\n",
    "###Google \"Numpy create random matrices\" and read first few links to get the solution \n",
    "###https://www.codespeedy.com/how-to-create-matrix-of-random-numbers-in-python-numpy/\n",
    "###https://numpy.org/doc/stable/reference/random/generated/numpy.random.rand.html"
   ]
  },
  {
   "cell_type": "code",
   "execution_count": 30,
   "metadata": {},
   "outputs": [
    {
     "name": "stdout",
     "output_type": "stream",
     "text": [
      "Scalar\n",
      "0.7522722453453843\n",
      "\n",
      "Vector\n",
      "[0.59828879 0.08257196 0.64274439]\n",
      "\n",
      "Matrix\n",
      "[[0.10512235 0.42255592]\n",
      " [0.34238415 0.57605849]\n",
      " [0.71074587 0.07058507]]\n"
     ]
    }
   ],
   "source": [
    "import numpy as np\n",
    "print('Scalar')\n",
    "print(np.random.rand())\n",
    "print()\n",
    "print('Vector')\n",
    "print(np.random.rand(3))\n",
    "print()\n",
    "print('Matrix')\n",
    "print(np.random.rand(3,2))"
   ]
  },
  {
   "cell_type": "code",
   "execution_count": 34,
   "metadata": {},
   "outputs": [],
   "source": [
    "#Difference between print(np.random.rand(3,2)) and print(np.random.rand(2,3))"
   ]
  },
  {
   "cell_type": "code",
   "execution_count": 56,
   "metadata": {},
   "outputs": [
    {
     "ename": "TypeError",
     "evalue": "'tuple' object is not callable",
     "output_type": "error",
     "traceback": [
      "\u001b[1;31m---------------------------------------------------------------------------\u001b[0m",
      "\u001b[1;31mTypeError\u001b[0m                                 Traceback (most recent call last)",
      "\u001b[1;32m<ipython-input-56-f60eeb639182>\u001b[0m in \u001b[0;36m<module>\u001b[1;34m\u001b[0m\n\u001b[0;32m      1\u001b[0m \u001b[0mA1\u001b[0m \u001b[1;33m=\u001b[0m \u001b[0mnp\u001b[0m\u001b[1;33m.\u001b[0m\u001b[0mrandom\u001b[0m\u001b[1;33m.\u001b[0m\u001b[0mrand\u001b[0m\u001b[1;33m(\u001b[0m\u001b[1;36m5\u001b[0m\u001b[1;33m,\u001b[0m\u001b[1;36m4\u001b[0m\u001b[1;33m)\u001b[0m\u001b[1;33m\u001b[0m\u001b[1;33m\u001b[0m\u001b[0m\n\u001b[1;32m----> 2\u001b[1;33m \u001b[0mprint\u001b[0m\u001b[1;33m(\u001b[0m\u001b[0mA1\u001b[0m\u001b[1;33m.\u001b[0m\u001b[0mshape\u001b[0m\u001b[1;33m(\u001b[0m\u001b[1;33m)\u001b[0m\u001b[1;33m)\u001b[0m \u001b[1;31m#Common Error\u001b[0m\u001b[1;33m\u001b[0m\u001b[1;33m\u001b[0m\u001b[0m\n\u001b[0m\u001b[0;32m      3\u001b[0m \u001b[1;31m#We typically call functions and looks like shape is not a function, but why it is saying tuple. We need to understand the same.\u001b[0m\u001b[1;33m\u001b[0m\u001b[1;33m\u001b[0m\u001b[1;33m\u001b[0m\u001b[0m\n",
      "\u001b[1;31mTypeError\u001b[0m: 'tuple' object is not callable"
     ]
    }
   ],
   "source": [
    "A1 = np.random.rand(5,4)\n",
    "print(A1.shape()) #Common Error\n",
    "#We typically call functions and looks like shape is not a function, but why it is saying tuple. We need to understand the same."
   ]
  },
  {
   "cell_type": "code",
   "execution_count": 58,
   "metadata": {},
   "outputs": [
    {
     "name": "stdout",
     "output_type": "stream",
     "text": [
      "(5, 4)\n"
     ]
    }
   ],
   "source": [
    "print(A1.shape) #Attribute and not method"
   ]
  },
  {
   "cell_type": "code",
   "execution_count": 57,
   "metadata": {},
   "outputs": [
    {
     "ename": "AttributeError",
     "evalue": "'numpy.ndarray' object has no attribute 'type'",
     "output_type": "error",
     "traceback": [
      "\u001b[1;31m---------------------------------------------------------------------------\u001b[0m",
      "\u001b[1;31mAttributeError\u001b[0m                            Traceback (most recent call last)",
      "\u001b[1;32m<ipython-input-57-1a1eb5063501>\u001b[0m in \u001b[0;36m<module>\u001b[1;34m\u001b[0m\n\u001b[1;32m----> 1\u001b[1;33m \u001b[0mprint\u001b[0m\u001b[1;33m(\u001b[0m\u001b[0mA1\u001b[0m\u001b[1;33m.\u001b[0m\u001b[0mtype\u001b[0m\u001b[1;33m)\u001b[0m\u001b[1;33m\u001b[0m\u001b[1;33m\u001b[0m\u001b[0m\n\u001b[0m",
      "\u001b[1;31mAttributeError\u001b[0m: 'numpy.ndarray' object has no attribute 'type'"
     ]
    }
   ],
   "source": [
    "print(A1.type)"
   ]
  },
  {
   "cell_type": "code",
   "execution_count": 48,
   "metadata": {},
   "outputs": [
    {
     "name": "stdout",
     "output_type": "stream",
     "text": [
      "50.0\n"
     ]
    }
   ],
   "source": [
    "#Explaining the class and objects and attributes - Class came from software engineering \n",
    "class Ctof: #Class\n",
    "    def __init__(self,c):\n",
    "        self.c = c #Attribute \n",
    "    def ctof(self): #Methods\n",
    "        f = (self.c * 9/5) + 32\n",
    "        print(f)\n",
    "c1 = Ctof(10) #c1 is object\n",
    "c1.ctof()"
   ]
  },
  {
   "cell_type": "code",
   "execution_count": 46,
   "metadata": {},
   "outputs": [],
   "source": [
    "#A1 is a variable of numpy.ndarray class"
   ]
  },
  {
   "cell_type": "code",
   "execution_count": 47,
   "metadata": {},
   "outputs": [
    {
     "name": "stdout",
     "output_type": "stream",
     "text": [
      "<class 'int'>\n"
     ]
    }
   ],
   "source": [
    "x = 10 \n",
    "print(type(x))"
   ]
  },
  {
   "cell_type": "code",
   "execution_count": 55,
   "metadata": {},
   "outputs": [],
   "source": [
    "#https://numpy.org/doc/stable/reference/generated/numpy.ndarray.html\n",
    "#Shape is an attribute which return tuple of integers its not a function its just a tuple\n",
    "#Type attribute is not present "
   ]
  },
  {
   "cell_type": "code",
   "execution_count": 62,
   "metadata": {},
   "outputs": [
    {
     "name": "stdout",
     "output_type": "stream",
     "text": [
      "(5, 4)\n"
     ]
    }
   ],
   "source": [
    "A2 = np.random.rand(5,4)\n",
    "print(A2.shape) "
   ]
  },
  {
   "cell_type": "code",
   "execution_count": 65,
   "metadata": {},
   "outputs": [
    {
     "data": {
      "text/plain": [
       "array([[0.566609  , 0.09210166, 0.67377608, 0.94733885],\n",
       "       [0.05538097, 0.05462301, 0.08691125, 0.68666414],\n",
       "       [0.69514455, 0.84979309, 0.42158615, 0.16751564],\n",
       "       [0.26149942, 0.00681318, 0.20062527, 0.94079969],\n",
       "       [0.8689469 , 0.6279964 , 0.07402948, 0.97560874]])"
      ]
     },
     "execution_count": 65,
     "metadata": {},
     "output_type": "execute_result"
    }
   ],
   "source": [
    "A1 #Matrices should be of same size then only we can add"
   ]
  },
  {
   "cell_type": "code",
   "execution_count": 64,
   "metadata": {},
   "outputs": [
    {
     "data": {
      "text/plain": [
       "array([[0.27062716, 0.91815619, 0.33402003, 0.11756194],\n",
       "       [0.06372635, 0.89236568, 0.06375337, 0.32542398],\n",
       "       [0.28772377, 0.47532044, 0.41147547, 0.09559796],\n",
       "       [0.90299374, 0.20183697, 0.17102443, 0.13219632],\n",
       "       [0.38587244, 0.26870613, 0.85447901, 0.11139454]])"
      ]
     },
     "execution_count": 64,
     "metadata": {},
     "output_type": "execute_result"
    }
   ],
   "source": [
    "A2"
   ]
  },
  {
   "cell_type": "code",
   "execution_count": 66,
   "metadata": {},
   "outputs": [
    {
     "name": "stdout",
     "output_type": "stream",
     "text": [
      "0.16751564184391\n"
     ]
    }
   ],
   "source": [
    "print(A1[2,3])"
   ]
  },
  {
   "cell_type": "code",
   "execution_count": 68,
   "metadata": {},
   "outputs": [
    {
     "ename": "TypeError",
     "evalue": "'numpy.ndarray' object is not callable",
     "output_type": "error",
     "traceback": [
      "\u001b[1;31m---------------------------------------------------------------------------\u001b[0m",
      "\u001b[1;31mTypeError\u001b[0m                                 Traceback (most recent call last)",
      "\u001b[1;32m<ipython-input-68-7147f6256d24>\u001b[0m in \u001b[0;36m<module>\u001b[1;34m\u001b[0m\n\u001b[1;32m----> 1\u001b[1;33m \u001b[0mprint\u001b[0m\u001b[1;33m(\u001b[0m\u001b[0mA1\u001b[0m\u001b[1;33m(\u001b[0m\u001b[1;36m2\u001b[0m\u001b[1;33m,\u001b[0m\u001b[1;36m3\u001b[0m\u001b[1;33m)\u001b[0m\u001b[1;33m)\u001b[0m \u001b[1;31m#Common error\u001b[0m\u001b[1;33m\u001b[0m\u001b[1;33m\u001b[0m\u001b[0m\n\u001b[0m",
      "\u001b[1;31mTypeError\u001b[0m: 'numpy.ndarray' object is not callable"
     ]
    }
   ],
   "source": [
    "print(A1(2,3)) #Common error"
   ]
  },
  {
   "cell_type": "code",
   "execution_count": 71,
   "metadata": {},
   "outputs": [],
   "source": [
    "#Bij = A1ij + A2ij\n",
    "#https://numpy.org/doc/stable/reference/arrays.ndarray.html"
   ]
  },
  {
   "cell_type": "code",
   "execution_count": 81,
   "metadata": {},
   "outputs": [
    {
     "name": "stdout",
     "output_type": "stream",
     "text": [
      "[[0.83723616 1.01025785 1.00779611 1.06490079]\n",
      " [0.11910732 0.94698869 0.15066462 1.01208812]\n",
      " [0.98286832 1.32511353 0.83306161 0.2631136 ]\n",
      " [1.16449317 0.20865015 0.37164969 1.072996  ]\n",
      " [1.25481934 0.89670253 0.92850849 1.08700328]]\n"
     ]
    }
   ],
   "source": [
    "B = A1 + A2\n",
    "print(B)"
   ]
  },
  {
   "cell_type": "code",
   "execution_count": 86,
   "metadata": {},
   "outputs": [
    {
     "name": "stdout",
     "output_type": "stream",
     "text": [
      "[[0.83723616 1.01025785 1.00779611 1.06490079]\n",
      " [0.11910732 0.94698869 0.15066462 1.01208812]\n",
      " [0.98286832 1.32511353 0.83306161 0.2631136 ]\n",
      " [1.16449317 0.20865015 0.37164969 1.072996  ]\n",
      " [1.25481934 0.89670253 0.92850849 1.08700328]]\n"
     ]
    }
   ],
   "source": [
    "#Dynamically changing the matrix size this may lead to some optimization problems \n",
    "(r,c) = A1.shape\n",
    "for i in range(r):\n",
    "    for j in range(c):\n",
    "        B[i,j] = A1[i,j] + A2[i,j]\n",
    "print(B)"
   ]
  },
  {
   "cell_type": "code",
   "execution_count": 88,
   "metadata": {},
   "outputs": [
    {
     "ename": "TypeError",
     "evalue": "Cannot interpret '4' as a data type",
     "output_type": "error",
     "traceback": [
      "\u001b[1;31m---------------------------------------------------------------------------\u001b[0m",
      "\u001b[1;31mTypeError\u001b[0m                                 Traceback (most recent call last)",
      "\u001b[1;32m<ipython-input-88-ddb5c0020eb1>\u001b[0m in \u001b[0;36m<module>\u001b[1;34m\u001b[0m\n\u001b[0;32m      1\u001b[0m \u001b[1;31m#Optimization: Pre allocated matrix B\u001b[0m\u001b[1;33m\u001b[0m\u001b[1;33m\u001b[0m\u001b[1;33m\u001b[0m\u001b[0m\n\u001b[1;32m----> 2\u001b[1;33m \u001b[0mB\u001b[0m \u001b[1;33m=\u001b[0m \u001b[0mnp\u001b[0m\u001b[1;33m.\u001b[0m\u001b[0mzeros\u001b[0m\u001b[1;33m(\u001b[0m\u001b[1;36m5\u001b[0m\u001b[1;33m,\u001b[0m\u001b[1;36m4\u001b[0m\u001b[1;33m)\u001b[0m \u001b[1;31m#Common error\u001b[0m\u001b[1;33m\u001b[0m\u001b[1;33m\u001b[0m\u001b[0m\n\u001b[0m\u001b[0;32m      3\u001b[0m \u001b[1;31m#https://numpy.org/doc/stable/reference/generated/numpy.zeros.html\u001b[0m\u001b[1;33m\u001b[0m\u001b[1;33m\u001b[0m\u001b[1;33m\u001b[0m\u001b[0m\n",
      "\u001b[1;31mTypeError\u001b[0m: Cannot interpret '4' as a data type"
     ]
    }
   ],
   "source": [
    "#Optimization: Pre allocated matrix B \n",
    "B = np.zeros(5,4) #Common error\n",
    "#https://numpy.org/doc/stable/reference/generated/numpy.zeros.html"
   ]
  },
  {
   "cell_type": "code",
   "execution_count": 84,
   "metadata": {},
   "outputs": [],
   "source": [
    "#Optimization: Pre allocated matrix B \n",
    "B = np.zeros((5,4))"
   ]
  },
  {
   "cell_type": "code",
   "execution_count": 85,
   "metadata": {},
   "outputs": [
    {
     "name": "stdout",
     "output_type": "stream",
     "text": [
      "[[0.83723616 1.01025785 1.00779611 1.06490079]\n",
      " [0.11910732 0.94698869 0.15066462 1.01208812]\n",
      " [0.98286832 1.32511353 0.83306161 0.2631136 ]\n",
      " [1.16449317 0.20865015 0.37164969 1.072996  ]\n",
      " [1.25481934 0.89670253 0.92850849 1.08700328]]\n"
     ]
    }
   ],
   "source": [
    "B = np.zeros((5,4))\n",
    "\n",
    "for i in range(r): # same code as earlier\n",
    "    for j in range(c):\n",
    "        B[i,j] = A1[i,j] + A2[i,j];\n",
    "        \n",
    "print(B)"
   ]
  },
  {
   "cell_type": "code",
   "execution_count": 91,
   "metadata": {},
   "outputs": [],
   "source": [
    "#Time complexity - O(rXc)\n",
    "#Space complexity - we created following variables i,j,r,c - O(1) - Space complexity is constant, \n",
    "#apart from input and output what variables we used "
   ]
  },
  {
   "cell_type": "code",
   "execution_count": 92,
   "metadata": {},
   "outputs": [],
   "source": [
    "#Exercise you participants: B[i,j,k] = A1[i,j,k] + A2[i,j,k]"
   ]
  },
  {
   "cell_type": "markdown",
   "metadata": {},
   "source": [
    "# Problem 2: Find if a given 2D-point is inside or outside a circle"
   ]
  },
  {
   "cell_type": "code",
   "execution_count": 93,
   "metadata": {},
   "outputs": [],
   "source": [
    "#Break into Sub problems\n",
    "    #Represent a circle with x and y coordinate and radius, Cx, Cy and r\n",
    "    #If the distance between center and point is more than r then it is outside the circle else inside"
   ]
  },
  {
   "cell_type": "code",
   "execution_count": 96,
   "metadata": {},
   "outputs": [
    {
     "name": "stdout",
     "output_type": "stream",
     "text": [
      "3.8.3 (default, Jul  2 2020, 17:30:36) [MSC v.1916 64 bit (AMD64)]\n"
     ]
    }
   ],
   "source": [
    "import sys\n",
    "print(sys.version)"
   ]
  },
  {
   "cell_type": "code",
   "execution_count": 102,
   "metadata": {},
   "outputs": [
    {
     "name": "stdout",
     "output_type": "stream",
     "text": [
      "Enter 3 numbers0 0 5\n"
     ]
    }
   ],
   "source": [
    "# input circle params\n",
    "## Google \"python input multiple values in single line\" ----> https://www.tutorialspoint.com/how-to-input-multiple-values-from-user-in-one-line-in-python\n",
    "## TRY MULTIPLE APPROACHES and learn from each attempt.\n",
    "\n",
    "(Cx,Cy,r) = [int(x) for x in input('Enter 3 numbers').split()]\n"
   ]
  },
  {
   "cell_type": "code",
   "execution_count": 103,
   "metadata": {},
   "outputs": [
    {
     "data": {
      "text/plain": [
       "0"
      ]
     },
     "execution_count": 103,
     "metadata": {},
     "output_type": "execute_result"
    }
   ],
   "source": [
    "Cx"
   ]
  },
  {
   "cell_type": "code",
   "execution_count": 106,
   "metadata": {},
   "outputs": [
    {
     "name": "stdout",
     "output_type": "stream",
     "text": [
      "Enter 2 numbers0 0\n",
      "0 0\n"
     ]
    }
   ],
   "source": [
    "# Input Px, Py\n",
    "\n",
    "(Px, Py) = [int(x) for x in input('Enter 2 numbers').split()]\n",
    "print(Px, Py);"
   ]
  },
  {
   "cell_type": "code",
   "execution_count": 107,
   "metadata": {},
   "outputs": [
    {
     "name": "stdout",
     "output_type": "stream",
     "text": [
      "0\n",
      "P in C\n"
     ]
    }
   ],
   "source": [
    "# Check if P lies in C.\n",
    "d = ( (Cx-Px)**2 + (Cy-Py)**2 )\n",
    "print(d);\n",
    "\n",
    "if d<r:\n",
    "    print(\"P in C\")\n",
    "else:\n",
    "    print(\"P NOT in C\")"
   ]
  },
  {
   "cell_type": "code",
   "execution_count": 108,
   "metadata": {},
   "outputs": [],
   "source": [
    "#Exercise for participants: If a point present inside or outside the rectangle"
   ]
  },
  {
   "cell_type": "markdown",
   "metadata": {},
   "source": [
    "# Problem 3: Numpy ndarray manipulation operations"
   ]
  },
  {
   "cell_type": "code",
   "execution_count": 125,
   "metadata": {},
   "outputs": [
    {
     "name": "stdout",
     "output_type": "stream",
     "text": [
      "Matrix\n",
      "[[0.92888887 0.94130124 0.44459377 0.2147101 ]\n",
      " [0.04477325 0.68516973 0.39432148 0.1088709 ]\n",
      " [0.17121965 0.85938037 0.81937368 0.18321255]\n",
      " [0.48756457 0.02993338 0.94333098 0.06200544]\n",
      " [0.83073519 0.0664809  0.36993257 0.10226748]]\n",
      "\n",
      "Vector\n",
      "[0.92888887 0.94130124 0.44459377 0.2147101  0.04477325 0.68516973\n",
      " 0.39432148 0.1088709  0.17121965 0.85938037 0.81937368 0.18321255\n",
      " 0.48756457 0.02993338 0.94333098 0.06200544 0.83073519 0.0664809\n",
      " 0.36993257 0.10226748]\n",
      "\n",
      "2X10 Matrix\n",
      "[[0.92888887 0.94130124 0.44459377 0.2147101  0.04477325 0.68516973\n",
      "  0.39432148 0.1088709  0.17121965 0.85938037]\n",
      " [0.81937368 0.18321255 0.48756457 0.02993338 0.94333098 0.06200544\n",
      "  0.83073519 0.0664809  0.36993257 0.10226748]]\n",
      "\n",
      "2X10 Matrix\n",
      "[[0.92888887 0.94130124 0.44459377 0.2147101  0.04477325 0.68516973\n",
      "  0.39432148 0.1088709  0.17121965 0.85938037]\n",
      " [0.81937368 0.18321255 0.48756457 0.02993338 0.94333098 0.06200544\n",
      "  0.83073519 0.0664809  0.36993257 0.10226748]]\n"
     ]
    }
   ],
   "source": [
    "#1. Reshape matrices: Very common errors\n",
    "A = np.random.rand(5,4)\n",
    "print('Matrix')\n",
    "print(A)\n",
    "#Converting the matrix to vector \n",
    "print()\n",
    "print('Vector')\n",
    "print(np.reshape(A,20,'C')) #C is row major order , #F - Column major order\n",
    "#https://numpy.org/doc/stable/reference/generated/numpy.reshape.html\n",
    "print()\n",
    "print('2X10 Matrix')\n",
    "print(np.reshape(A, (2,-1)))\n",
    "print()\n",
    "print('2X10 Matrix')\n",
    "print(np.reshape(A, (2,10)))"
   ]
  },
  {
   "cell_type": "code",
   "execution_count": 126,
   "metadata": {},
   "outputs": [
    {
     "ename": "ValueError",
     "evalue": "cannot reshape array of size 20 into shape (4,6)",
     "output_type": "error",
     "traceback": [
      "\u001b[1;31m---------------------------------------------------------------------------\u001b[0m",
      "\u001b[1;31mValueError\u001b[0m                                Traceback (most recent call last)",
      "\u001b[1;32m<ipython-input-126-3fb14257cbb7>\u001b[0m in \u001b[0;36m<module>\u001b[1;34m\u001b[0m\n\u001b[1;32m----> 1\u001b[1;33m \u001b[0mprint\u001b[0m\u001b[1;33m(\u001b[0m\u001b[0mnp\u001b[0m\u001b[1;33m.\u001b[0m\u001b[0mreshape\u001b[0m\u001b[1;33m(\u001b[0m\u001b[0mA\u001b[0m\u001b[1;33m,\u001b[0m \u001b[1;33m(\u001b[0m\u001b[1;36m4\u001b[0m\u001b[1;33m,\u001b[0m\u001b[1;36m6\u001b[0m\u001b[1;33m)\u001b[0m\u001b[1;33m)\u001b[0m\u001b[1;33m)\u001b[0m\u001b[1;33m\u001b[0m\u001b[1;33m\u001b[0m\u001b[0m\n\u001b[0m",
      "\u001b[1;32m<__array_function__ internals>\u001b[0m in \u001b[0;36mreshape\u001b[1;34m(*args, **kwargs)\u001b[0m\n",
      "\u001b[1;32m~\\anaconda3\\lib\\site-packages\\numpy\\core\\fromnumeric.py\u001b[0m in \u001b[0;36mreshape\u001b[1;34m(a, newshape, order)\u001b[0m\n\u001b[0;32m    297\u001b[0m            [5, 6]])\n\u001b[0;32m    298\u001b[0m     \"\"\"\n\u001b[1;32m--> 299\u001b[1;33m     \u001b[1;32mreturn\u001b[0m \u001b[0m_wrapfunc\u001b[0m\u001b[1;33m(\u001b[0m\u001b[0ma\u001b[0m\u001b[1;33m,\u001b[0m \u001b[1;34m'reshape'\u001b[0m\u001b[1;33m,\u001b[0m \u001b[0mnewshape\u001b[0m\u001b[1;33m,\u001b[0m \u001b[0morder\u001b[0m\u001b[1;33m=\u001b[0m\u001b[0morder\u001b[0m\u001b[1;33m)\u001b[0m\u001b[1;33m\u001b[0m\u001b[1;33m\u001b[0m\u001b[0m\n\u001b[0m\u001b[0;32m    300\u001b[0m \u001b[1;33m\u001b[0m\u001b[0m\n\u001b[0;32m    301\u001b[0m \u001b[1;33m\u001b[0m\u001b[0m\n",
      "\u001b[1;32m~\\anaconda3\\lib\\site-packages\\numpy\\core\\fromnumeric.py\u001b[0m in \u001b[0;36m_wrapfunc\u001b[1;34m(obj, method, *args, **kwds)\u001b[0m\n\u001b[0;32m     56\u001b[0m \u001b[1;33m\u001b[0m\u001b[0m\n\u001b[0;32m     57\u001b[0m     \u001b[1;32mtry\u001b[0m\u001b[1;33m:\u001b[0m\u001b[1;33m\u001b[0m\u001b[1;33m\u001b[0m\u001b[0m\n\u001b[1;32m---> 58\u001b[1;33m         \u001b[1;32mreturn\u001b[0m \u001b[0mbound\u001b[0m\u001b[1;33m(\u001b[0m\u001b[1;33m*\u001b[0m\u001b[0margs\u001b[0m\u001b[1;33m,\u001b[0m \u001b[1;33m**\u001b[0m\u001b[0mkwds\u001b[0m\u001b[1;33m)\u001b[0m\u001b[1;33m\u001b[0m\u001b[1;33m\u001b[0m\u001b[0m\n\u001b[0m\u001b[0;32m     59\u001b[0m     \u001b[1;32mexcept\u001b[0m \u001b[0mTypeError\u001b[0m\u001b[1;33m:\u001b[0m\u001b[1;33m\u001b[0m\u001b[1;33m\u001b[0m\u001b[0m\n\u001b[0;32m     60\u001b[0m         \u001b[1;31m# A TypeError occurs if the object does have such a method in its\u001b[0m\u001b[1;33m\u001b[0m\u001b[1;33m\u001b[0m\u001b[1;33m\u001b[0m\u001b[0m\n",
      "\u001b[1;31mValueError\u001b[0m: cannot reshape array of size 20 into shape (4,6)"
     ]
    }
   ],
   "source": [
    "print(np.reshape(A, (4,6)))"
   ]
  },
  {
   "cell_type": "code",
   "execution_count": 132,
   "metadata": {},
   "outputs": [
    {
     "name": "stdout",
     "output_type": "stream",
     "text": [
      "[[0.89577567 0.20289853 0.71214576 0.67539362]\n",
      " [0.23555103 0.30327781 0.00737099 0.28477759]\n",
      " [0.77759151 0.91454186 0.7997354  0.41157741]\n",
      " [0.08220154 0.88945347 0.96845891 0.47757042]\n",
      " [0.63685069 0.19997395 0.94272509 0.48385914]]\n",
      "\n",
      "[[0.22733482 0.72614556]\n",
      " [0.43847812 0.46187102]\n",
      " [0.82571875 0.1552335 ]\n",
      " [0.69425186 0.99541757]\n",
      " [0.2424983  0.33034623]]\n"
     ]
    }
   ],
   "source": [
    "#Stacking - Horizontal stacking\n",
    "A = np.random.rand(5,4)\n",
    "print(A)\n",
    "print()\n",
    "B = np.random.rand(5,2)\n",
    "print(B)"
   ]
  },
  {
   "cell_type": "code",
   "execution_count": 135,
   "metadata": {},
   "outputs": [
    {
     "ename": "TypeError",
     "evalue": "_vhstack_dispatcher() takes 1 positional argument but 2 were given",
     "output_type": "error",
     "traceback": [
      "\u001b[1;31m---------------------------------------------------------------------------\u001b[0m",
      "\u001b[1;31mTypeError\u001b[0m                                 Traceback (most recent call last)",
      "\u001b[1;32m<ipython-input-135-c68252593820>\u001b[0m in \u001b[0;36m<module>\u001b[1;34m\u001b[0m\n\u001b[1;32m----> 1\u001b[1;33m \u001b[0mC\u001b[0m \u001b[1;33m=\u001b[0m \u001b[0mnp\u001b[0m\u001b[1;33m.\u001b[0m\u001b[0mhstack\u001b[0m\u001b[1;33m(\u001b[0m\u001b[0mA\u001b[0m\u001b[1;33m,\u001b[0m\u001b[0mB\u001b[0m\u001b[1;33m)\u001b[0m\u001b[1;33m\u001b[0m\u001b[1;33m\u001b[0m\u001b[0m\n\u001b[0m\u001b[0;32m      2\u001b[0m \u001b[0mprint\u001b[0m\u001b[1;33m(\u001b[0m\u001b[0mC\u001b[0m\u001b[1;33m)\u001b[0m\u001b[1;33m\u001b[0m\u001b[1;33m\u001b[0m\u001b[0m\n\u001b[0;32m      3\u001b[0m \u001b[1;31m#https://numpy.org/doc/stable/reference/generated/numpy.hstack.html\u001b[0m\u001b[1;33m\u001b[0m\u001b[1;33m\u001b[0m\u001b[1;33m\u001b[0m\u001b[0m\n",
      "\u001b[1;32m<__array_function__ internals>\u001b[0m in \u001b[0;36mhstack\u001b[1;34m(*args, **kwargs)\u001b[0m\n",
      "\u001b[1;31mTypeError\u001b[0m: _vhstack_dispatcher() takes 1 positional argument but 2 were given"
     ]
    }
   ],
   "source": [
    "C = np.hstack(A,B)\n",
    "print(C)\n",
    "#https://numpy.org/doc/stable/reference/generated/numpy.hstack.html"
   ]
  },
  {
   "cell_type": "code",
   "execution_count": 137,
   "metadata": {},
   "outputs": [
    {
     "name": "stdout",
     "output_type": "stream",
     "text": [
      "[[0.89577567 0.20289853 0.71214576 0.67539362 0.22733482 0.72614556]\n",
      " [0.23555103 0.30327781 0.00737099 0.28477759 0.43847812 0.46187102]\n",
      " [0.77759151 0.91454186 0.7997354  0.41157741 0.82571875 0.1552335 ]\n",
      " [0.08220154 0.88945347 0.96845891 0.47757042 0.69425186 0.99541757]\n",
      " [0.63685069 0.19997395 0.94272509 0.48385914 0.2424983  0.33034623]]\n"
     ]
    }
   ],
   "source": [
    "C = np.hstack((A,B))\n",
    "print(C)"
   ]
  },
  {
   "cell_type": "code",
   "execution_count": 143,
   "metadata": {},
   "outputs": [
    {
     "name": "stdout",
     "output_type": "stream",
     "text": [
      "[[0.21561165 0.63618203 0.32506536 0.45117427]\n",
      " [0.60980858 0.40838283 0.09656805 0.19454285]\n",
      " [0.98242218 0.44569581 0.82373021 0.75632235]\n",
      " [0.88960863 0.9495265  0.09460492 0.83273345]\n",
      " [0.10941554 0.8823901  0.00907646 0.52999921]]\n",
      "\n",
      "[[0.96946346 0.35452831 0.53558101 0.02268937]\n",
      " [0.62019522 0.21220152 0.23974054 0.27365779]]\n",
      "[[0.21561165 0.63618203 0.32506536 0.45117427]\n",
      " [0.60980858 0.40838283 0.09656805 0.19454285]\n",
      " [0.98242218 0.44569581 0.82373021 0.75632235]\n",
      " [0.88960863 0.9495265  0.09460492 0.83273345]\n",
      " [0.10941554 0.8823901  0.00907646 0.52999921]\n",
      " [0.96946346 0.35452831 0.53558101 0.02268937]\n",
      " [0.62019522 0.21220152 0.23974054 0.27365779]]\n"
     ]
    }
   ],
   "source": [
    "#Stacking - Vertical stacking\n",
    "A = np.random.rand(5,4)\n",
    "print(A)\n",
    "print()\n",
    "B = np.random.rand(2,4)\n",
    "print(B)\n",
    "C = print(np.vstack((A,B)))"
   ]
  }
 ],
 "metadata": {
  "kernelspec": {
   "display_name": "Python 3",
   "language": "python",
   "name": "python3"
  },
  "language_info": {
   "codemirror_mode": {
    "name": "ipython",
    "version": 3
   },
   "file_extension": ".py",
   "mimetype": "text/x-python",
   "name": "python",
   "nbconvert_exporter": "python",
   "pygments_lexer": "ipython3",
   "version": "3.8.3"
  }
 },
 "nbformat": 4,
 "nbformat_minor": 4
}
